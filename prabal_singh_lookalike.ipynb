{
  "nbformat": 4,
  "nbformat_minor": 0,
  "metadata": {
    "colab": {
      "provenance": []
    },
    "kernelspec": {
      "name": "python3",
      "display_name": "Python 3"
    },
    "language_info": {
      "name": "python"
    }
  },
  "cells": [
    {
      "cell_type": "code",
      "execution_count": 1,
      "metadata": {
        "colab": {
          "base_uri": "https://localhost:8080/"
        },
        "id": "jQHQZ5Zz0IN9",
        "outputId": "66197f40-e467-46c7-9f87-db99a09e786a"
      },
      "outputs": [
        {
          "output_type": "stream",
          "name": "stdout",
          "text": [
            "   CustomerID                                         Lookalikes\n",
            "0       C0001  [(C0137, 0.9917546282770221), (C0107, 0.976682...\n",
            "1       C0002  [(C0142, 0.9789967016690172), (C0043, 0.956983...\n",
            "2       C0003  [(C0133, 0.9356636533070146), (C0052, 0.876787...\n",
            "3       C0004  [(C0113, 0.9825009970124268), (C0102, 0.963342...\n",
            "4       C0005  [(C0159, 0.9975056636669825), (C0186, 0.985127...\n",
            "5       C0006  [(C0168, 0.974173291850688), (C0158, 0.9336368...\n",
            "6       C0007  [(C0135, 0.9853800852512515), (C0140, 0.978872...\n",
            "7       C0008  [(C0194, 0.9704984907472344), (C0024, 0.958848...\n",
            "8       C0009  [(C0060, 0.9755107996536551), (C0199, 0.974904...\n",
            "9       C0010  [(C0121, 0.9553284052315265), (C0199, 0.938264...\n",
            "10      C0011  [(C0107, 0.9882025194085697), (C0048, 0.988012...\n",
            "11      C0012  [(C0102, 0.9812343678594674), (C0155, 0.965043...\n",
            "12      C0013  [(C0099, 0.9844376604649439), (C0188, 0.983575...\n",
            "13      C0014  [(C0198, 0.9920357736215644), (C0060, 0.979709...\n",
            "14      C0015  [(C0131, 0.9951285870368495), (C0036, 0.993409...\n",
            "15      C0016  [(C0183, 0.8983397025320404), (C0187, 0.864518...\n",
            "16      C0017  [(C0124, 0.9940246165597407), (C0175, 0.986685...\n",
            "17      C0018  [(C0148, 0.9446296174565586), (C0096, 0.917306...\n",
            "18      C0019  [(C0172, 0.9959209788732963), (C0127, 0.893928...\n",
            "19      C0020  [(C0042, 0.9817240650074018), (C0125, 0.951933...\n"
          ]
        }
      ],
      "source": [
        "import pandas as pd\n",
        "from sklearn.metrics.pairwise import cosine_similarity\n",
        "from sklearn.preprocessing import StandardScaler\n",
        "\n",
        "# Step 1: Load the data\n",
        "customers = pd.read_csv('Customers.csv')\n",
        "transactions = pd.read_csv('Transactions.csv')\n",
        "products = pd.read_csv('Products.csv')\n",
        "\n",
        "# Step 2: Data Preprocessing\n",
        "# Merge datasets to include product and customer details in transactions\n",
        "transactions = transactions.merge(products, on='ProductID').merge(customers, on='CustomerID')\n",
        "\n",
        "# Aggregate transaction data to create features for each customer\n",
        "customer_features = transactions.groupby('CustomerID').agg(\n",
        "    TotalTransactions=('TransactionID', 'count'),\n",
        "    TotalQuantity=('Quantity', 'sum'),\n",
        "    TotalSpent=('TotalValue', 'sum'),\n",
        "    AvgTransactionValue=('TotalValue', 'mean'),\n",
        "    DistinctProducts=('ProductID', 'nunique')\n",
        ").reset_index()\n",
        "\n",
        "# Merge with customer profile data\n",
        "customer_features = customer_features.merge(customers, on='CustomerID')\n",
        "\n",
        "# Encode categorical variables\n",
        "customer_features['Region'] = customer_features['Region'].astype('category').cat.codes\n",
        "\n",
        "# Step 3: Normalize features\n",
        "numerical_columns = ['TotalTransactions', 'TotalQuantity', 'TotalSpent', 'AvgTransactionValue', 'DistinctProducts', 'Region']\n",
        "scaler = StandardScaler()\n",
        "scaled_features = scaler.fit_transform(customer_features[numerical_columns])\n",
        "\n",
        "# Step 4: Compute Similarity Matrix\n",
        "similarity_matrix = cosine_similarity(scaled_features)\n",
        "\n",
        "# Step 5: Recommend Top 3 Lookalike Customers for Each of the First 20 Customers\n",
        "lookalike_results = {}\n",
        "for idx, customer_id in enumerate(customer_features['CustomerID'][:20]):\n",
        "    # Get similarity scores for the current customer\n",
        "    similarity_scores = list(enumerate(similarity_matrix[idx]))\n",
        "\n",
        "    # Sort by similarity score in descending order and exclude the customer itself\n",
        "    similarity_scores = sorted(similarity_scores, key=lambda x: x[1], reverse=True)\n",
        "    similarity_scores = [(customer_features['CustomerID'][i], score) for i, score in similarity_scores if customer_features['CustomerID'][i] != customer_id]\n",
        "\n",
        "    # Get the top 3 most similar customers\n",
        "    lookalike_results[customer_id] = similarity_scores[:3]\n",
        "\n",
        "# Step 6: Save Results to CSV\n",
        "output = []\n",
        "for customer_id, recommendations in lookalike_results.items():\n",
        "    output.append({\n",
        "        'CustomerID': customer_id,\n",
        "        'Lookalikes': recommendations\n",
        "    })\n",
        "\n",
        "# Create a DataFrame and save\n",
        "lookalike_df = pd.DataFrame(output)\n",
        "lookalike_df.to_csv('FirstName_LastName_Lookalike.csv', index=False)\n",
        "\n",
        "# Print the results for validation\n",
        "print(lookalike_df)"
      ]
    },
    {
      "cell_type": "code",
      "source": [],
      "metadata": {
        "id": "nQ0-a3OZ0UsT"
      },
      "execution_count": null,
      "outputs": []
    }
  ]
}